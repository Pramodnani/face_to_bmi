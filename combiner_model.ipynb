{
 "cells": [
  {
   "cell_type": "code",
   "execution_count": 1,
   "metadata": {},
   "outputs": [
    {
     "name": "stdout",
     "output_type": "stream",
     "text": [
      "C:\\Users\\pramo\\Downloads\\face-to-bmi\\Data\n"
     ]
    },
    {
     "name": "stderr",
     "output_type": "stream",
     "text": [
      "C:\\Users\\pramo\\Anaconda3\\lib\\site-packages\\sklearn\\utils\\validation.py:475: DataConversionWarning: Data with input dtype uint8 was converted to float64 by StandardScaler.\n",
      "  warnings.warn(msg, DataConversionWarning)\n"
     ]
    },
    {
     "name": "stdout",
     "output_type": "stream",
     "text": [
      "Mean sqaure error=69.44426805925471 , R2_score=-0.006527049375038008\n"
     ]
    }
   ],
   "source": [
    "from F_b_DT import export_prediction_Dt"
   ]
  },
  {
   "cell_type": "code",
   "execution_count": 2,
   "metadata": {},
   "outputs": [],
   "source": [
    "prediction_DT=export_prediction_Dt()"
   ]
  },
  {
   "cell_type": "code",
   "execution_count": 3,
   "metadata": {},
   "outputs": [
    {
     "name": "stdout",
     "output_type": "stream",
     "text": [
      "C:\\Users\\pramo\\Downloads\\face-to-bmi\\Data\n"
     ]
    },
    {
     "name": "stderr",
     "output_type": "stream",
     "text": [
      "C:\\Users\\pramo\\Anaconda3\\lib\\site-packages\\sklearn\\utils\\validation.py:475: DataConversionWarning: Data with input dtype uint8 was converted to float64 by StandardScaler.\n",
      "  warnings.warn(msg, DataConversionWarning)\n"
     ]
    },
    {
     "name": "stdout",
     "output_type": "stream",
     "text": [
      "MSE=65.42555487215279 and r2score=-0.0002153626908587558\n"
     ]
    },
    {
     "data": {
      "image/png": "[encoded data removed]",
      "text/plain": [
       "<Figure size 432x288 with 1 Axes>"
      ]
     },
     "metadata": {
      "needs_background": "light"
     },
     "output_type": "display_data"
    }
   ],
   "source": [
    "from F_b_SVR import export_prediction_SVR,export_ytest_SVR"
   ]
  },
  {
   "cell_type": "code",
   "execution_count": 4,
   "metadata": {},
   "outputs": [],
   "source": [
    "prediction_SVR=export_prediction_SVR()"
   ]
  },
  {
   "cell_type": "code",
   "execution_count": 12,
   "metadata": {},
   "outputs": [],
   "source": [
    "y_test=export_ytest_SVR()"
   ]
  },
  {
   "cell_type": "code",
   "execution_count": 6,
   "metadata": {
    "scrolled": true
   },
   "outputs": [
    {
     "name": "stdout",
     "output_type": "stream",
     "text": [
      "C:\\Users\\pramo\\Downloads\\face-to-bmi\\Data\n"
     ]
    },
    {
     "name": "stderr",
     "output_type": "stream",
     "text": [
      "C:\\Users\\pramo\\Anaconda3\\lib\\site-packages\\sklearn\\utils\\validation.py:475: DataConversionWarning: Data with input dtype uint8 was converted to float64 by StandardScaler.\n",
      "  warnings.warn(msg, DataConversionWarning)\n",
      "C:\\Users\\pramo\\Anaconda3\\lib\\site-packages\\sklearn\\ensemble\\weight_boosting.py:29: DeprecationWarning: numpy.core.umath_tests is an internal NumPy module and should not be imported. It will be removed in a future NumPy release.\n",
      "  from numpy.core.umath_tests import inner1d\n"
     ]
    },
    {
     "name": "stdout",
     "output_type": "stream",
     "text": [
      "n_estimator=100,learning_rate=0.01 MSE=73.61969647162759 and R2=-0.0021512481684762275\n"
     ]
    },
    {
     "data": {
      "image/png": "[encoded data removed]",
      "text/plain": [
       "<Figure size 432x288 with 1 Axes>"
      ]
     },
     "metadata": {
      "needs_background": "light"
     },
     "output_type": "display_data"
    }
   ],
   "source": [
    "from F_b_adaboost import export_prediction_Adaboost"
   ]
  },
  {
   "cell_type": "code",
   "execution_count": 7,
   "metadata": {},
   "outputs": [],
   "source": [
    "prediction_adabost=export_prediction_Adaboost()"
   ]
  },
  {
   "cell_type": "code",
   "execution_count": null,
   "metadata": {},
   "outputs": [],
   "source": []
  },
  {
   "cell_type": "code",
   "execution_count": 116,
   "metadata": {},
   "outputs": [],
   "source": [
    "prediction=[prediction_DT,prediction_adabost,prediction_SVR]"
   ]
  },
  {
   "cell_type": "code",
   "execution_count": null,
   "metadata": {},
   "outputs": [],
   "source": []
  },
  {
   "cell_type": "code",
   "execution_count": 118,
   "metadata": {},
   "outputs": [],
   "source": [
    "from sklearn.metrics import mean_squared_error"
   ]
  },
  {
   "cell_type": "code",
   "execution_count": 119,
   "metadata": {},
   "outputs": [],
   "source": [
    "def mean(x,y):\n",
    "    return (x+y)/2"
   ]
  },
  {
   "cell_type": "code",
   "execution_count": 127,
   "metadata": {},
   "outputs": [],
   "source": [
    "import numpy as np\n"
   ]
  },
  {
   "cell_type": "code",
   "execution_count": 153,
   "metadata": {},
   "outputs": [],
   "source": [
    "def maximum(x,y):\n",
    "    d=np.maximum(x,y)\n",
    "    return d"
   ]
  },
  {
   "cell_type": "code",
   "execution_count": null,
   "metadata": {},
   "outputs": [],
   "source": []
  },
  {
   "cell_type": "code",
   "execution_count": 135,
   "metadata": {},
   "outputs": [],
   "source": [
    "def minimum(x,y):\n",
    "    s=np.minimum(x,y)\n",
    "    return s"
   ]
  },
  {
   "cell_type": "code",
   "execution_count": 141,
   "metadata": {},
   "outputs": [
    {
     "name": "stdout",
     "output_type": "stream",
     "text": [
      "minimum square error for 2 models=65.4042973162367\n"
     ]
    }
   ],
   "source": [
    "#averaging method to find minimum MSE from 2 models\n",
    "count=0\n",
    "meann=mean(prediction[0],prediction[1])\n",
    "mse_2=mean_squared_error(y_test,meann)\n",
    "for i in range(0,2):\n",
    "    for j in range(i,2):\n",
    "        meann=mean(prediction[i],prediction[j+1])\n",
    "        temp=mean_squared_error(y_test,meann)\n",
    "        #print(temp)\n",
    "        #print(i,j+1)\n",
    "        if(mse_2>temp):\n",
    "            mse_2=temp         \n",
    "print(\"minimum square error for 2 models={}\".format(mse_2))            \n",
    "    "
   ]
  },
  {
   "cell_type": "code",
   "execution_count": null,
   "metadata": {},
   "outputs": [],
   "source": []
  },
  {
   "cell_type": "code",
   "execution_count": 144,
   "metadata": {},
   "outputs": [
    {
     "name": "stdout",
     "output_type": "stream",
     "text": [
      "mse of 3 models average:65.45107751251248\n"
     ]
    }
   ],
   "source": [
    "#mse for 3 models average\n",
    "mean_3=(prediction[0]+prediction[1]+prediction[2])/3\n",
    "\n",
    "mse_3=mean_squared_error(y_test,mean_3)\n",
    "print(\"mse of 3 models average:{}\".format(mse_3))"
   ]
  },
  {
   "cell_type": "code",
   "execution_count": 162,
   "metadata": {},
   "outputs": [
    {
     "name": "stdout",
     "output_type": "stream",
     "text": [
      "mean square error for 2 models minimum=65.41423762896328\n"
     ]
    }
   ],
   "source": [
    "#MSE by minimum of 2 models\n",
    "count_m=0\n",
    "min_m=minimum(prediction[0],prediction[1])\n",
    "mse_min_2=mean_squared_error(y_test,min_m)\n",
    "for i in range(0,2):\n",
    "    for j in range(i,2):\n",
    "        min_m=minimum(prediction[i],prediction[j+1])\n",
    "        temp=mean_squared_error(y_test,min_m)\n",
    "        #print(temp)\n",
    "        #print(i,j+1)\n",
    "        if(mse_min_2>temp):\n",
    "            mse_min_2=temp         \n",
    "print(\"mean square error for 2 models minimum={}\".format(mse_min_2))        "
   ]
  },
  {
   "cell_type": "code",
   "execution_count": 151,
   "metadata": {},
   "outputs": [
    {
     "name": "stdout",
     "output_type": "stream",
     "text": [
      "mean square error for 3 models minimum=65.41423762896328\n"
     ]
    }
   ],
   "source": [
    "#MSE by minimum of 3 models\n",
    "min_m=np.minimum(prediction[0],prediction[1],prediction[2])\n",
    "mse_min_3=mean_squared_error(y_test,min_m)\n",
    "print(\"mean square error for 3 models minimum={}\".format(mse_min_3))        "
   ]
  },
  {
   "cell_type": "code",
   "execution_count": 163,
   "metadata": {},
   "outputs": [
    {
     "name": "stdout",
     "output_type": "stream",
     "text": [
      "mean square error for 2 models maximum=65.41423762896328\n"
     ]
    }
   ],
   "source": [
    "#MSE by maximum of 2 models\n",
    "count_mx=0\n",
    "min_mx=maximum(prediction[0],prediction[1])\n",
    "mse_mx_2=mean_squared_error(y_test,min_mx)\n",
    "for i in range(0,2):\n",
    "    for j in range(i,2):\n",
    "        min_mx=maximum(prediction[i],prediction[j+1])\n",
    "        temp=mean_squared_error(y_test,min_mx)\n",
    "        #print(temp)\n",
    "        #print(i,j+1)\n",
    "        if(mse_mx_2>temp):\n",
    "            mse_mx_2=temp         \n",
    "print(\"mean square error for 2 models maximum={}\".format(mse_mx_2))"
   ]
  },
  {
   "cell_type": "code",
   "execution_count": 161,
   "metadata": {},
   "outputs": [
    {
     "name": "stdout",
     "output_type": "stream",
     "text": [
      "mean square error for 3 models minimum=65.41423762896328\n"
     ]
    }
   ],
   "source": [
    "#MSE by minimum of 3 models\n",
    "min_x=np.minimum(prediction[0],prediction[1],prediction[2])\n",
    "mse_mx_3=mean_squared_error(y_test,min_x)\n",
    "print(\"mean square error for 3 models minimum={}\".format(mse_mx_3))        "
   ]
  },
  {
   "cell_type": "code",
   "execution_count": null,
   "metadata": {},
   "outputs": [],
   "source": [
    " "
   ]
  }
 ],
 "metadata": {
  "kernelspec": {
   "display_name": "Python 3",
   "language": "python",
   "name": "python3"
  },
  "language_info": {
   "codemirror_mode": {
    "name": "ipython",
    "version": 3
   },
   "file_extension": ".py",
   "mimetype": "text/x-python",
   "name": "python",
   "nbconvert_exporter": "python",
   "pygments_lexer": "ipython3",
   "version": "3.7.2"
  }
 },
 "nbformat": 4,
 "nbformat_minor": 2
}
